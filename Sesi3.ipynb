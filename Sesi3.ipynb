{
  "nbformat": 4,
  "nbformat_minor": 0,
  "metadata": {
    "colab": {
      "provenance": [],
      "authorship_tag": "ABX9TyMJL03LYMH982wz34k7YdaK",
      "include_colab_link": true
    },
    "kernelspec": {
      "name": "python3",
      "display_name": "Python 3"
    },
    "language_info": {
      "name": "python"
    }
  },
  "cells": [
    {
      "cell_type": "markdown",
      "metadata": {
        "id": "view-in-github",
        "colab_type": "text"
      },
      "source": [
        "<a href=\"https://colab.research.google.com/github/JasmanSyah/PBO/blob/main/Sesi3.ipynb\" target=\"_parent\"><img src=\"https://colab.research.google.com/assets/colab-badge.svg\" alt=\"Open In Colab\"/></a>"
      ]
    },
    {
      "cell_type": "markdown",
      "source": [
        "Contoh sederhana perulangan for"
      ],
      "metadata": {
        "id": "cHy8zW6tS0A4"
      }
    },
    {
      "cell_type": "code",
      "source": [
        "# Deklarasi variabel contoh dan 10 itu sebagai tanda 10 kali perulangan\n",
        "contoh = 10\n",
        "\n",
        "# Variabel i berfungsi untuk menampung indeks,\n",
        "# dan fungsi range() berfungsi untuk membuat list dari 0-10.\n",
        "for i in range(contoh):\n",
        "    print (\"Perulangan ke-\" +str(i))"
      ],
      "metadata": {
        "colab": {
          "base_uri": "https://localhost:8080/"
        },
        "id": "U308NRhCS0_h",
        "outputId": "b987064d-fd9c-48ee-99ed-bea12b8493b3"
      },
      "execution_count": 1,
      "outputs": [
        {
          "output_type": "stream",
          "name": "stdout",
          "text": [
            "Perulangan ke-0\n",
            "Perulangan ke-1\n",
            "Perulangan ke-2\n",
            "Perulangan ke-3\n",
            "Perulangan ke-4\n",
            "Perulangan ke-5\n",
            "Perulangan ke-6\n",
            "Perulangan ke-7\n",
            "Perulangan ke-8\n",
            "Perulangan ke-9\n"
          ]
        }
      ]
    },
    {
      "cell_type": "code",
      "source": [
        "# Menampilkan range dari kumpulan deret tertentu\n",
        "# range(5,10) akan membuat deret angka mulai dari 5, 6, 7, 8, dan 9.\n",
        "\n",
        "for i in range(5,10):\n",
        "  print(i)"
      ],
      "metadata": {
        "colab": {
          "base_uri": "https://localhost:8080/"
        },
        "id": "ZTF0QpvXTMN0",
        "outputId": "864f2b88-5a38-4641-9c02-5745b660c95d"
      },
      "execution_count": 2,
      "outputs": [
        {
          "output_type": "stream",
          "name": "stdout",
          "text": [
            "5\n",
            "6\n",
            "7\n",
            "8\n",
            "9\n"
          ]
        }
      ]
    },
    {
      "cell_type": "markdown",
      "source": [
        "Contoh menampilkan isi dalam body perulangan"
      ],
      "metadata": {
        "id": "ortTIqwUTZE1"
      }
    },
    {
      "cell_type": "code",
      "source": [
        "# Deklarasi variabel contoh2 dengan tipe list\n",
        "contoh2 = ['saya','suka','minum','kopi', 'gayo']\n",
        "\n",
        "for isi in contoh2:\n",
        "    print (isi)"
      ],
      "metadata": {
        "colab": {
          "base_uri": "https://localhost:8080/"
        },
        "id": "_kSAAd5MTdnR",
        "outputId": "e77c5f81-e73a-4f96-feb3-5a3a4819a5af"
      },
      "execution_count": 3,
      "outputs": [
        {
          "output_type": "stream",
          "name": "stdout",
          "text": [
            "saya\n",
            "suka\n",
            "minum\n",
            "kopi\n",
            "gayo\n"
          ]
        }
      ]
    },
    {
      "cell_type": "markdown",
      "source": [
        "Contoh menggunakan while"
      ],
      "metadata": {
        "id": "tB5UWzoMTjwF"
      }
    },
    {
      "cell_type": "code",
      "source": [
        "# Deklarasi variabel hit\n",
        "hit = 0\n",
        "# Membuat kondisi\n",
        "while (hit < 5):\n",
        "    print(hit, \"kurang dari 5\")\n",
        "    hit = hit + 1\n",
        "else:\n",
        "# Menampilkan output salam jika kondisi sudah terpenuhi\n",
        "    print(\"Salammmm\")"
      ],
      "metadata": {
        "colab": {
          "base_uri": "https://localhost:8080/"
        },
        "id": "1zGXLgygTk1_",
        "outputId": "64c207b0-1dd9-437c-db65-506f31869d86"
      },
      "execution_count": 4,
      "outputs": [
        {
          "output_type": "stream",
          "name": "stdout",
          "text": [
            "0 kurang dari 5\n",
            "1 kurang dari 5\n",
            "2 kurang dari 5\n",
            "3 kurang dari 5\n",
            "4 kurang dari 5\n",
            "Salammmm\n"
          ]
        }
      ]
    },
    {
      "cell_type": "markdown",
      "source": [
        "Program Menghitung Harga Tiket Masuk"
      ],
      "metadata": {
        "id": "cH1R10ORTphm"
      }
    },
    {
      "cell_type": "code",
      "source": [
        "##\n",
        "# Program menghitung Faktor Persekutuan Terbesa\n",
        "#\n",
        "\n",
        "# Membaca dua bilangan positif dari user\n",
        "n = int(input(\"Masukkan bilangan positif:\"))\n",
        "m = int(input(\"Masukkan bilangan positif:\"))\n",
        "\n",
        "# Inisialisasi variabel untuk nilai terkecil dari n dan m\n",
        "d = min(n, m)\n",
        "\n",
        "# Gunakan loop while untuk mencari FPT\n",
        "while n % d != 0 or m % d != 0:\n",
        "  d = d - 1\n",
        "\n",
        "# Menampilkan hasil\n",
        "print(\"Faktor persekutuan terbesar dari\", n, \"dan\", m, \" adalah\", d)"
      ],
      "metadata": {
        "colab": {
          "base_uri": "https://localhost:8080/"
        },
        "id": "fzV1CRT1TrhP",
        "outputId": "3331bb26-b782-47b9-db1e-e81f325d43b8"
      },
      "execution_count": 5,
      "outputs": [
        {
          "output_type": "stream",
          "name": "stdout",
          "text": [
            "Masukkan bilangan positif:45\n",
            "Masukkan bilangan positif:5\n",
            "Faktor persekutuan terbesar dari 45 dan 5  adalah 5\n"
          ]
        }
      ]
    },
    {
      "cell_type": "markdown",
      "source": [
        "Program Mencari Nilai Maksimum dari 100 bilangan bulat"
      ],
      "metadata": {
        "id": "yK6Q4slxUCOE"
      }
    },
    {
      "cell_type": "code",
      "source": [
        "##\n",
        "# Menentukan nilai maksimum 100 bilangan bulat, menghitung berapa kali\n",
        "# perulangan\n",
        "\n",
        "from random import randrange\n",
        "\n",
        "BIL_ITEMS = 100\n",
        "\n",
        "# Generate the first number and menampilkan nya\n",
        "maks_nilai = randrange(1, BIL_ITEMS + 1)\n",
        "print(maks_nilai)\n",
        "\n",
        "# Menghitung berapa kali perubahan\n",
        "bil_update = 0\n",
        "\n",
        "# Untuk setiap bilangan\n",
        "for i in range(1, BIL_ITEMS):\n",
        "  # Generate bilangan acak\n",
        "  current = randrange(1, BIL_ITEMS + 1)\n",
        "\n",
        "  # Kondisi jika ditemukan bilangan terbesar\n",
        "  if current > maks_nilai:\n",
        "    # Update nilai maksimum dan hitung perubahan\n",
        "    maks_nilai = current\n",
        "    bil_update = bil_update + 1\n",
        "    # Tampilkan bilangan jika masih ada proses update\n",
        "    print(current, \"<== Update\")\n",
        "  else:\n",
        "    #Tampilkan bilangan\n",
        "    print(current)\n",
        "\n",
        "# Tampilkan Hasil Terakhir\n",
        "print(\" Nilai maksimum yang ditemukan adalah\", maks_nilai)\n",
        "print(\"Nilai maksimum yang di-update\", bil_update, \"kali\")"
      ],
      "metadata": {
        "colab": {
          "base_uri": "https://localhost:8080/"
        },
        "id": "gLTPgHrSUFoO",
        "outputId": "634c7287-7f16-4528-a0e5-12c2bc3e8ae1"
      },
      "execution_count": 6,
      "outputs": [
        {
          "output_type": "stream",
          "name": "stdout",
          "text": [
            "71\n",
            "86 <== Update\n",
            "61\n",
            "16\n",
            "73\n",
            "93 <== Update\n",
            "81\n",
            "62\n",
            "47\n",
            "90\n",
            "95 <== Update\n",
            "18\n",
            "76\n",
            "60\n",
            "62\n",
            "97 <== Update\n",
            "51\n",
            "78\n",
            "49\n",
            "5\n",
            "36\n",
            "37\n",
            "62\n",
            "51\n",
            "34\n",
            "91\n",
            "26\n",
            "96\n",
            "2\n",
            "80\n",
            "4\n",
            "51\n",
            "54\n",
            "31\n",
            "78\n",
            "66\n",
            "96\n",
            "81\n",
            "19\n",
            "20\n",
            "16\n",
            "58\n",
            "9\n",
            "56\n",
            "87\n",
            "56\n",
            "6\n",
            "41\n",
            "38\n",
            "14\n",
            "43\n",
            "72\n",
            "42\n",
            "37\n",
            "13\n",
            "99 <== Update\n",
            "21\n",
            "90\n",
            "25\n",
            "51\n",
            "77\n",
            "77\n",
            "99\n",
            "15\n",
            "21\n",
            "30\n",
            "62\n",
            "99\n",
            "44\n",
            "50\n",
            "18\n",
            "12\n",
            "32\n",
            "64\n",
            "98\n",
            "80\n",
            "57\n",
            "5\n",
            "43\n",
            "30\n",
            "29\n",
            "36\n",
            "70\n",
            "95\n",
            "50\n",
            "78\n",
            "63\n",
            "22\n",
            "62\n",
            "45\n",
            "37\n",
            "80\n",
            "95\n",
            "87\n",
            "14\n",
            "95\n",
            "98\n",
            "19\n",
            "70\n",
            "8\n",
            " Nilai maksimum yang ditemukan adalah 99\n",
            "Nilai maksimum yang di-update 5 kali\n"
          ]
        }
      ]
    }
  ]
}